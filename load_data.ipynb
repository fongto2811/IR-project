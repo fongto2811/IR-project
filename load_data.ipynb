{
 "cells": [
  {
   "attachments": {},
   "cell_type": "markdown",
   "metadata": {},
   "source": [
    "## Lấy dữ liệu của từng product\n",
    "1. Thêm thư viện"
   ]
  },
  {
   "cell_type": "code",
   "execution_count": 18,
   "metadata": {},
   "outputs": [],
   "source": [
    "from selenium import webdriver\n",
    "from selenium.webdriver.chrome.options import Options as ChromeOptions\n",
    "from selenium.webdriver.common.by import By\n",
    "from webdriver_manager.chrome import ChromeDriverManager\n",
    "import os, datetime, time, json\n",
    "\n",
    "# define directories\n",
    "IN_PATH = r\".\\data\"\n",
    "OUT_PATH = r\".\\documents\"\n",
    "LOG_SESSION = datetime.datetime.now().strftime(\"%d%m%Y%H%M\")"
   ]
  },
  {
   "cell_type": "code",
   "execution_count": 19,
   "metadata": {},
   "outputs": [],
   "source": [
    "# get all file in data\n",
    "FJoin = os.path.join\n",
    "files = [FJoin(IN_PATH, f) for f in os.listdir(os.path.expanduser(IN_PATH))]"
   ]
  },
  {
   "cell_type": "code",
   "execution_count": 20,
   "metadata": {},
   "outputs": [
    {
     "name": "stderr",
     "output_type": "stream",
     "text": [
      "C:\\Users\\THINKPAD\\AppData\\Local\\Temp\\ipykernel_9192\\3731364667.py:4: DeprecationWarning: executable_path has been deprecated, please pass in a Service object\n",
      "  web_driver = webdriver.Chrome(executable_path=ChromeDriverManager().install(), options=options)\n"
     ]
    }
   ],
   "source": [
    "# start webdriver Chrome\n",
    "options = ChromeOptions()\n",
    "options.add_argument(\"--headless=new\")\n",
    "web_driver = webdriver.Chrome(executable_path=ChromeDriverManager().install(), options=options)"
   ]
  },
  {
   "cell_type": "code",
   "execution_count": 21,
   "metadata": {},
   "outputs": [],
   "source": [
    "# create log\n",
    "logs_file = open('logs/get_{0}.log'.format(LOG_SESSION),'w+',encoding='utf-8');"
   ]
  },
  {
   "cell_type": "code",
   "execution_count": 23,
   "metadata": {},
   "outputs": [
    {
     "name": "stdout",
     "output_type": "stream",
     "text": [
      "Writing product 10000\n",
      "Success!!!\n",
      "Writing product 10001\n",
      "Error!!!\n",
      "Writing product 10002\n",
      "Success!!!\n",
      "Writing product 10003\n",
      "Success!!!\n",
      "Writing product 10004\n",
      "Error!!!\n",
      "Writing product 10005\n",
      "Success!!!\n",
      "Writing product 10006\n",
      "Error!!!\n",
      "Writing product 10007\n",
      "Success!!!\n",
      "Writing product 10008\n",
      "Error!!!\n",
      "Writing product 10009\n",
      "Success!!!\n",
      "Writing product 10010\n",
      "Success!!!\n",
      "Writing product 10011\n",
      "Success!!!\n",
      "Writing product 10012\n",
      "Success!!!\n",
      "Writing product 10013\n",
      "Success!!!\n",
      "Writing product 10014\n",
      "Success!!!\n",
      "Writing product 10015\n",
      "Success!!!\n",
      "Writing product 10016\n",
      "Error!!!\n",
      "Writing product 10017\n",
      "Success!!!\n",
      "Writing product 10018\n",
      "Error!!!\n",
      "Writing product 10019\n",
      "Success!!!\n",
      "Writing product 10020\n",
      "Error!!!\n",
      "Writing product 10021\n",
      "Error!!!\n",
      "Writing product 10022\n",
      "Error!!!\n",
      "Writing product 10023\n",
      "Success!!!\n",
      "Writing product 10024\n",
      "Error!!!\n",
      "Writing product 10025\n",
      "Error!!!\n",
      "Writing product 10026\n",
      "Success!!!\n",
      "Writing product 10027\n",
      "Error!!!\n",
      "Writing product 10028\n",
      "Success!!!\n",
      "Writing product 10029\n",
      "Success!!!\n",
      "Writing product 10030\n",
      "Success!!!\n",
      "Writing product 10031\n",
      "Error!!!\n",
      "Writing product 10032\n",
      "Success!!!\n",
      "Writing product 10033\n",
      "Success!!!\n",
      "Writing product 10034\n",
      "Error!!!\n",
      "Writing product 10035\n",
      "Error!!!\n",
      "Writing product 10036\n"
     ]
    },
    {
     "ename": "KeyboardInterrupt",
     "evalue": "",
     "output_type": "error",
     "traceback": [
      "\u001b[1;31m---------------------------------------------------------------------------\u001b[0m",
      "\u001b[1;31mKeyboardInterrupt\u001b[0m                         Traceback (most recent call last)",
      "Cell \u001b[1;32mIn[23], line 11\u001b[0m\n\u001b[0;32m      9\u001b[0m \u001b[39mprint\u001b[39m(\u001b[39m\"\u001b[39m\u001b[39mWriting product \u001b[39m\u001b[39m{0}\u001b[39;00m\u001b[39m\"\u001b[39m\u001b[39m.\u001b[39mformat(count))\n\u001b[0;32m     10\u001b[0m web_driver\u001b[39m.\u001b[39mget(l)\n\u001b[1;32m---> 11\u001b[0m time\u001b[39m.\u001b[39;49msleep(\u001b[39m5\u001b[39;49m)\n\u001b[0;32m     12\u001b[0m \u001b[39mtry\u001b[39;00m:\n\u001b[0;32m     13\u001b[0m     \u001b[39mtry\u001b[39;00m:\n",
      "\u001b[1;31mKeyboardInterrupt\u001b[0m: "
     ]
    }
   ],
   "source": [
    "# get products detail and save\n",
    "logs_file.write(\"------------------------------------\\nStart new session: {0}\\n\".format(LOG_SESSION))\n",
    "count = 10000\n",
    "for f in files:\n",
    "    with open(f, 'r', encoding='UTF-8') as file:\n",
    "        lines = file.readlines()\n",
    "        for l in lines:\n",
    "            logs_file.write(\"Get product no {0} in {1}\".format(lines.index(l)+1,f))\n",
    "            print(\"Writing product {0}\".format(count))\n",
    "            web_driver.get(l)\n",
    "            time.sleep(5)\n",
    "            try:\n",
    "                try:\n",
    "                    document = {\n",
    "                        \"title\" :  web_driver.find_element(By.XPATH, '//*[@id=\"productTitle\"]').text,\n",
    "                        \"asin\": web_driver.find_element(By.XPATH, '//*[@id=\"detailBullets_feature_div\"]/ul/li[6]/span/span[2]').text,\n",
    "                        \"brand\": web_driver.find_element(By.XPATH, '//*[@id=\"detailBullets_feature_div\"]/ul/li[5]/span/span[2]').text,\n",
    "                        \"stars\": web_driver.find_element(By.XPATH, '//*[@id=\"acrPopover\"]/span[1]/a/span').text,\n",
    "                        \"reviewsCount\": web_driver.find_element(By.XPATH, '//*[@id=\"acrCustomerReviewText\"]').text,\n",
    "                        \"thumbnailImage\": web_driver.find_element(By.XPATH, '//*[@id=\"landingImage\"]').get_attribute(\"src\"),\n",
    "                        \"breadCrumbs\": [e.text for e in web_driver.find_elements(By.XPATH, '//*[@id=\"wayfinding-breadcrumbs_feature_div\"]/ul/li')],\n",
    "                        \"description\": web_driver.find_element(By.XPATH, '//*[@id=\"productDescription\"]/p/span').text,\n",
    "                        \"price\" : {\n",
    "                            \"value\" :  web_driver.find_element(By.XPATH, '//*[@class=\"a-price-whole\"]').text+'.'+web_driver.find_element(By.XPATH, '//*[@class=\"a-price-fraction\"]').text,\n",
    "                            \"currency\" : web_driver.find_element(By.XPATH, '//*[@class=\"a-price-symbol\"]').text,\n",
    "                        },\n",
    "                        \"url\": l.replace(\"\\n\",\"\"),\n",
    "                    }\n",
    "                except Exception as ex:\n",
    "                    document = {\n",
    "                        \"title\" :  web_driver.find_element(By.XPATH, '//*[@id=\"productTitle\"]').text,\n",
    "                        \"asin\": web_driver.find_element(By.XPATH, '//*[@id=\"productDetails_detailBullets_sections1\"]/tbody/tr[1]/td').text,\n",
    "                        \"brand\": web_driver.find_element(By.XPATH, '//*[@id=\"productDetails_techSpec_section_1\"]/tbody/tr[1]/td').text,\n",
    "                        \"stars\": web_driver.find_element(By.XPATH, '//*[@id=\"acrPopover\"]/span[1]/a/span').text,\n",
    "                        \"reviewsCount\": web_driver.find_element(By.XPATH, '//*[@id=\"acrCustomerReviewText\"]').text,\n",
    "                        \"thumbnailImage\": web_driver.find_element(By.XPATH, '//*[@id=\"landingImage\"]').get_attribute(\"src\"),\n",
    "                        \"breadCrumbs\": [e.text for e in web_driver.find_elements(By.XPATH, '//*[@id=\"wayfinding-breadcrumbs_feature_div\"]/ul/li')],\n",
    "                        \"description\": web_driver.find_element(By.XPATH, '//*[@id=\"productDescription\"]/p/span').text,\n",
    "                        \"price\" : {\n",
    "                            \"value\" :  web_driver.find_element(By.XPATH, '//*[@class=\"a-price-whole\"]').text+'.'+web_driver.find_element(By.XPATH, '//*[@class=\"a-price-fraction\"]').text,\n",
    "                            \"currency\" : web_driver.find_element(By.XPATH, '//*[@class=\"a-price-symbol\"]').text,\n",
    "                        },\n",
    "                        \"url\": l.replace(\"\\n\",\"\"),\n",
    "                    }\n",
    "            except Exception as e:\n",
    "                logs_file.write(\"Error in {0} at {1}\".format(lines.index(l)+1,f))\n",
    "                print(\"Error!!!\")\n",
    "            else:\n",
    "                with open('documents/product{0}.json'.format(count), 'w+', encoding='utf-8') as file:\n",
    "                    json.dump(document, file)\n",
    "                print(\"Success!!!\")\n",
    "            count += 1"
   ]
  },
  {
   "cell_type": "code",
   "execution_count": 24,
   "metadata": {},
   "outputs": [],
   "source": [
    "logs_file.close()\n",
    "web_driver.close()"
   ]
  }
 ],
 "metadata": {
  "kernelspec": {
   "display_name": "Python 3.9.16 ('irclass')",
   "language": "python",
   "name": "python3"
  },
  "language_info": {
   "codemirror_mode": {
    "name": "ipython",
    "version": 3
   },
   "file_extension": ".py",
   "mimetype": "text/x-python",
   "name": "python",
   "nbconvert_exporter": "python",
   "pygments_lexer": "ipython3",
   "version": "3.9.16"
  },
  "orig_nbformat": 4,
  "vscode": {
   "interpreter": {
    "hash": "b65cb7195eab4202e54437796eb79a992266e8003346874e176ec4e43c345551"
   }
  }
 },
 "nbformat": 4,
 "nbformat_minor": 2
}
