{
 "cells": [
  {
   "attachments": {},
   "cell_type": "markdown",
   "metadata": {},
   "source": [
    "## Lấy dữ liệu của từng product\n",
    "1. Thêm thư viện"
   ]
  },
  {
   "cell_type": "code",
   "execution_count": 9,
   "metadata": {},
   "outputs": [],
   "source": [
    "from selenium import webdriver\n",
    "from selenium.webdriver.chrome.options import Options as ChromeOptions\n",
    "from selenium.webdriver.common.by import By\n",
    "from webdriver_manager.chrome import ChromeDriverManager\n",
    "import os, datetime, time, json\n",
    "\n",
    "# define directories\n",
    "IN_PATH = r\".\\data\"\n",
    "OUT_PATH = r\".\\documents\"\n",
    "LOG_SESSION = datetime.datetime.now().strftime(\"%d%m%Y%H%M\")"
   ]
  },
  {
   "cell_type": "code",
   "execution_count": 10,
   "metadata": {},
   "outputs": [],
   "source": [
    "# get all file in data\n",
    "FJoin = os.path.join\n",
    "files = [FJoin(IN_PATH, f) for f in os.listdir(os.path.expanduser(IN_PATH))]"
   ]
  },
  {
   "cell_type": "code",
   "execution_count": 11,
   "metadata": {},
   "outputs": [
    {
     "name": "stderr",
     "output_type": "stream",
     "text": [
      "C:\\Users\\totha\\AppData\\Local\\Temp\\ipykernel_12760\\3731364667.py:4: DeprecationWarning: executable_path has been deprecated, please pass in a Service object\n",
      "  web_driver = webdriver.Chrome(executable_path=ChromeDriverManager().install(), options=options)\n"
     ]
    }
   ],
   "source": [
    "# start webdriver Chrome\n",
    "options = ChromeOptions()\n",
    "options.add_argument(\"--headless=new\")\n",
    "web_driver = webdriver.Chrome(executable_path=ChromeDriverManager().install(), options=options)"
   ]
  },
  {
   "cell_type": "code",
   "execution_count": 12,
   "metadata": {},
   "outputs": [],
   "source": [
    "# create log\n",
    "logs_file = open('logs/get_{0}.log'.format(LOG_SESSION),'w+',encoding='utf-8');"
   ]
  },
  {
   "cell_type": "code",
   "execution_count": 14,
   "metadata": {},
   "outputs": [
    {
     "name": "stdout",
     "output_type": "stream",
     "text": [
      "Writing product 1790\n",
      "Success!!!\n",
      "Writing product 1791\n",
      "Success!!!\n",
      "Writing product 1792\n"
     ]
    },
    {
     "ename": "KeyboardInterrupt",
     "evalue": "",
     "output_type": "error",
     "traceback": [
      "\u001b[1;31m---------------------------------------------------------------------------\u001b[0m",
      "\u001b[1;31mKeyboardInterrupt\u001b[0m                         Traceback (most recent call last)",
      "Cell \u001b[1;32mIn[14], line 10\u001b[0m\n\u001b[0;32m      8\u001b[0m logs_file\u001b[39m.\u001b[39mwrite(\u001b[39m\"\u001b[39m\u001b[39mGet product no \u001b[39m\u001b[39m{0}\u001b[39;00m\u001b[39m in \u001b[39m\u001b[39m{1}\u001b[39;00m\u001b[39m\"\u001b[39m\u001b[39m.\u001b[39mformat(lines\u001b[39m.\u001b[39mindex(l)\u001b[39m+\u001b[39m\u001b[39m1\u001b[39m,f))\n\u001b[0;32m      9\u001b[0m \u001b[39mprint\u001b[39m(\u001b[39m\"\u001b[39m\u001b[39mWriting product \u001b[39m\u001b[39m{0}\u001b[39;00m\u001b[39m\"\u001b[39m\u001b[39m.\u001b[39mformat(count))\n\u001b[1;32m---> 10\u001b[0m web_driver\u001b[39m.\u001b[39;49mget(l)\n\u001b[0;32m     11\u001b[0m time\u001b[39m.\u001b[39msleep(\u001b[39m5\u001b[39m)\n\u001b[0;32m     12\u001b[0m \u001b[39mtry\u001b[39;00m:\n",
      "File \u001b[1;32mc:\\Users\\totha\\.conda\\envs\\cuoiky\\lib\\site-packages\\selenium\\webdriver\\remote\\webdriver.py:449\u001b[0m, in \u001b[0;36mWebDriver.get\u001b[1;34m(self, url)\u001b[0m\n\u001b[0;32m    447\u001b[0m \u001b[39mdef\u001b[39;00m \u001b[39mget\u001b[39m(\u001b[39mself\u001b[39m, url: \u001b[39mstr\u001b[39m) \u001b[39m-\u001b[39m\u001b[39m>\u001b[39m \u001b[39mNone\u001b[39;00m:\n\u001b[0;32m    448\u001b[0m \u001b[39m    \u001b[39m\u001b[39m\"\"\"Loads a web page in the current browser session.\"\"\"\u001b[39;00m\n\u001b[1;32m--> 449\u001b[0m     \u001b[39mself\u001b[39;49m\u001b[39m.\u001b[39;49mexecute(Command\u001b[39m.\u001b[39;49mGET, {\u001b[39m\"\u001b[39;49m\u001b[39murl\u001b[39;49m\u001b[39m\"\u001b[39;49m: url})\n",
      "File \u001b[1;32mc:\\Users\\totha\\.conda\\envs\\cuoiky\\lib\\site-packages\\selenium\\webdriver\\remote\\webdriver.py:438\u001b[0m, in \u001b[0;36mWebDriver.execute\u001b[1;34m(self, driver_command, params)\u001b[0m\n\u001b[0;32m    435\u001b[0m     \u001b[39melif\u001b[39;00m \u001b[39m\"\u001b[39m\u001b[39msessionId\u001b[39m\u001b[39m\"\u001b[39m \u001b[39mnot\u001b[39;00m \u001b[39min\u001b[39;00m params:\n\u001b[0;32m    436\u001b[0m         params[\u001b[39m\"\u001b[39m\u001b[39msessionId\u001b[39m\u001b[39m\"\u001b[39m] \u001b[39m=\u001b[39m \u001b[39mself\u001b[39m\u001b[39m.\u001b[39msession_id\n\u001b[1;32m--> 438\u001b[0m response \u001b[39m=\u001b[39m \u001b[39mself\u001b[39;49m\u001b[39m.\u001b[39;49mcommand_executor\u001b[39m.\u001b[39;49mexecute(driver_command, params)\n\u001b[0;32m    439\u001b[0m \u001b[39mif\u001b[39;00m response:\n\u001b[0;32m    440\u001b[0m     \u001b[39mself\u001b[39m\u001b[39m.\u001b[39merror_handler\u001b[39m.\u001b[39mcheck_response(response)\n",
      "File \u001b[1;32mc:\\Users\\totha\\.conda\\envs\\cuoiky\\lib\\site-packages\\selenium\\webdriver\\remote\\remote_connection.py:290\u001b[0m, in \u001b[0;36mRemoteConnection.execute\u001b[1;34m(self, command, params)\u001b[0m\n\u001b[0;32m    288\u001b[0m data \u001b[39m=\u001b[39m utils\u001b[39m.\u001b[39mdump_json(params)\n\u001b[0;32m    289\u001b[0m url \u001b[39m=\u001b[39m \u001b[39mf\u001b[39m\u001b[39m\"\u001b[39m\u001b[39m{\u001b[39;00m\u001b[39mself\u001b[39m\u001b[39m.\u001b[39m_url\u001b[39m}\u001b[39;00m\u001b[39m{\u001b[39;00mpath\u001b[39m}\u001b[39;00m\u001b[39m\"\u001b[39m\n\u001b[1;32m--> 290\u001b[0m \u001b[39mreturn\u001b[39;00m \u001b[39mself\u001b[39;49m\u001b[39m.\u001b[39;49m_request(command_info[\u001b[39m0\u001b[39;49m], url, body\u001b[39m=\u001b[39;49mdata)\n",
      "File \u001b[1;32mc:\\Users\\totha\\.conda\\envs\\cuoiky\\lib\\site-packages\\selenium\\webdriver\\remote\\remote_connection.py:311\u001b[0m, in \u001b[0;36mRemoteConnection._request\u001b[1;34m(self, method, url, body)\u001b[0m\n\u001b[0;32m    308\u001b[0m     body \u001b[39m=\u001b[39m \u001b[39mNone\u001b[39;00m\n\u001b[0;32m    310\u001b[0m \u001b[39mif\u001b[39;00m \u001b[39mself\u001b[39m\u001b[39m.\u001b[39mkeep_alive:\n\u001b[1;32m--> 311\u001b[0m     response \u001b[39m=\u001b[39m \u001b[39mself\u001b[39;49m\u001b[39m.\u001b[39;49m_conn\u001b[39m.\u001b[39;49mrequest(method, url, body\u001b[39m=\u001b[39;49mbody, headers\u001b[39m=\u001b[39;49mheaders)\n\u001b[0;32m    312\u001b[0m     statuscode \u001b[39m=\u001b[39m response\u001b[39m.\u001b[39mstatus\n\u001b[0;32m    313\u001b[0m \u001b[39melse\u001b[39;00m:\n",
      "File \u001b[1;32mc:\\Users\\totha\\.conda\\envs\\cuoiky\\lib\\site-packages\\urllib3\\_request_methods.py:118\u001b[0m, in \u001b[0;36mrequest\u001b[1;34m(self, method, url, body, fields, headers, json, **urlopen_kw)\u001b[0m\n",
      "File \u001b[1;32mc:\\Users\\totha\\.conda\\envs\\cuoiky\\lib\\site-packages\\urllib3\\_request_methods.py:217\u001b[0m, in \u001b[0;36mrequest_encode_body\u001b[1;34m(self, method, url, fields, headers, encode_multipart, multipart_boundary, **urlopen_kw)\u001b[0m\n",
      "File \u001b[1;32mc:\\Users\\totha\\.conda\\envs\\cuoiky\\lib\\site-packages\\urllib3\\poolmanager.py:433\u001b[0m, in \u001b[0;36murlopen\u001b[1;34m(self, method, url, redirect, **kw)\u001b[0m\n\u001b[0;32m    421\u001b[0m \u001b[39mclass\u001b[39;00m \u001b[39mProxyManager\u001b[39;00m(PoolManager):\n\u001b[0;32m    422\u001b[0m \u001b[39m    \u001b[39m\u001b[39m\"\"\"\u001b[39;00m\n\u001b[0;32m    423\u001b[0m \u001b[39m    Behaves just like :class:`PoolManager`, but sends all requests through\u001b[39;00m\n\u001b[0;32m    424\u001b[0m \u001b[39m    the defined proxy, using the CONNECT method for HTTPS URLs.\u001b[39;00m\n\u001b[0;32m    425\u001b[0m \n\u001b[0;32m    426\u001b[0m \u001b[39m    :param proxy_url:\u001b[39;00m\n\u001b[0;32m    427\u001b[0m \u001b[39m        The URL of the proxy to be used.\u001b[39;00m\n\u001b[0;32m    428\u001b[0m \n\u001b[0;32m    429\u001b[0m \u001b[39m    :param proxy_headers:\u001b[39;00m\n\u001b[0;32m    430\u001b[0m \u001b[39m        A dictionary containing headers that will be sent to the proxy. In case\u001b[39;00m\n\u001b[0;32m    431\u001b[0m \u001b[39m        of HTTP they are being sent with each request, while in the\u001b[39;00m\n\u001b[0;32m    432\u001b[0m \u001b[39m        HTTPS/CONNECT case they are sent only once. Could be used for proxy\u001b[39;00m\n\u001b[1;32m--> 433\u001b[0m \u001b[39m        authentication.\u001b[39;00m\n\u001b[0;32m    434\u001b[0m \n\u001b[0;32m    435\u001b[0m \u001b[39m    :param proxy_ssl_context:\u001b[39;00m\n\u001b[0;32m    436\u001b[0m \u001b[39m        The proxy SSL context is used to establish the TLS connection to the\u001b[39;00m\n\u001b[0;32m    437\u001b[0m \u001b[39m        proxy when using HTTPS proxies.\u001b[39;00m\n\u001b[0;32m    438\u001b[0m \n\u001b[0;32m    439\u001b[0m \u001b[39m    :param use_forwarding_for_https:\u001b[39;00m\n\u001b[0;32m    440\u001b[0m \u001b[39m        (Defaults to False) If set to True will forward requests to the HTTPS\u001b[39;00m\n\u001b[0;32m    441\u001b[0m \u001b[39m        proxy to be made on behalf of the client instead of creating a TLS\u001b[39;00m\n\u001b[0;32m    442\u001b[0m \u001b[39m        tunnel via the CONNECT method. **Enabling this flag means that request\u001b[39;00m\n\u001b[0;32m    443\u001b[0m \u001b[39m        and response headers and content will be visible from the HTTPS proxy**\u001b[39;00m\n\u001b[0;32m    444\u001b[0m \u001b[39m        whereas tunneling keeps request and response headers and content\u001b[39;00m\n\u001b[0;32m    445\u001b[0m \u001b[39m        private.  IP address, target hostname, SNI, and port are always visible\u001b[39;00m\n\u001b[0;32m    446\u001b[0m \u001b[39m        to an HTTPS proxy even when this flag is disabled.\u001b[39;00m\n\u001b[0;32m    447\u001b[0m \n\u001b[0;32m    448\u001b[0m \u001b[39m    Example:\u001b[39;00m\n\u001b[0;32m    449\u001b[0m \u001b[39m        >>> proxy = urllib3.ProxyManager('http://localhost:3128/')\u001b[39;00m\n\u001b[0;32m    450\u001b[0m \u001b[39m        >>> r1 = proxy.request('GET', 'http://google.com/')\u001b[39;00m\n\u001b[0;32m    451\u001b[0m \u001b[39m        >>> r2 = proxy.request('GET', 'http://httpbin.org/')\u001b[39;00m\n\u001b[0;32m    452\u001b[0m \u001b[39m        >>> len(proxy.pools)\u001b[39;00m\n\u001b[0;32m    453\u001b[0m \u001b[39m        1\u001b[39;00m\n\u001b[0;32m    454\u001b[0m \u001b[39m        >>> r3 = proxy.request('GET', 'https://httpbin.org/')\u001b[39;00m\n\u001b[0;32m    455\u001b[0m \u001b[39m        >>> r4 = proxy.request('GET', 'https://twitter.com/')\u001b[39;00m\n\u001b[0;32m    456\u001b[0m \u001b[39m        >>> len(proxy.pools)\u001b[39;00m\n\u001b[0;32m    457\u001b[0m \u001b[39m        3\u001b[39;00m\n\u001b[0;32m    458\u001b[0m \n\u001b[0;32m    459\u001b[0m \u001b[39m    \"\"\"\u001b[39;00m\n\u001b[0;32m    461\u001b[0m     \u001b[39mdef\u001b[39;00m \u001b[39m__init__\u001b[39m(\n\u001b[0;32m    462\u001b[0m         \u001b[39mself\u001b[39m,\n\u001b[0;32m    463\u001b[0m         proxy_url,\n\u001b[1;32m   (...)\u001b[0m\n\u001b[0;32m    469\u001b[0m         \u001b[39m*\u001b[39m\u001b[39m*\u001b[39mconnection_pool_kw\n\u001b[0;32m    470\u001b[0m     ):\n\u001b[0;32m    472\u001b[0m         \u001b[39mif\u001b[39;00m \u001b[39misinstance\u001b[39m(proxy_url, HTTPConnectionPool):\n",
      "File \u001b[1;32mc:\\Users\\totha\\.conda\\envs\\cuoiky\\lib\\site-packages\\urllib3\\connectionpool.py:790\u001b[0m, in \u001b[0;36murlopen\u001b[1;34m(self, method, url, body, headers, retries, redirect, assert_same_host, timeout, pool_timeout, release_conn, chunked, body_pos, preload_content, decode_content, **response_kw)\u001b[0m\n\u001b[0;32m    773\u001b[0m \u001b[39m# Try to detect a common user error with proxies which is to\u001b[39;00m\n\u001b[0;32m    774\u001b[0m \u001b[39m# set an HTTP proxy to be HTTPS when it should be 'http://'\u001b[39;00m\n\u001b[0;32m    775\u001b[0m \u001b[39m# (ie {'http': 'http://proxy', 'https': 'https://proxy'})\u001b[39;00m\n\u001b[0;32m    776\u001b[0m \u001b[39m# Instead we add a nice error message and point to a URL.\u001b[39;00m\n\u001b[0;32m    777\u001b[0m \u001b[39mif\u001b[39;00m (\n\u001b[0;32m    778\u001b[0m     \u001b[39misinstance\u001b[39m(e, BaseSSLError)\n\u001b[0;32m    779\u001b[0m     \u001b[39mand\u001b[39;00m \u001b[39mself\u001b[39m\u001b[39m.\u001b[39mproxy\n\u001b[1;32m   (...)\u001b[0m\n\u001b[0;32m    782\u001b[0m     \u001b[39mand\u001b[39;00m conn\u001b[39m.\u001b[39mproxy\u001b[39m.\u001b[39mscheme \u001b[39m==\u001b[39m \u001b[39m\"\u001b[39m\u001b[39mhttps\u001b[39m\u001b[39m\"\u001b[39m\n\u001b[0;32m    783\u001b[0m ):\n\u001b[0;32m    784\u001b[0m     e \u001b[39m=\u001b[39m ProxyError(\n\u001b[0;32m    785\u001b[0m         \u001b[39m\"\u001b[39m\u001b[39mYour proxy appears to only use HTTP and not HTTPS, \u001b[39m\u001b[39m\"\u001b[39m\n\u001b[0;32m    786\u001b[0m         \u001b[39m\"\u001b[39m\u001b[39mtry changing your proxy URL to be HTTP. See: \u001b[39m\u001b[39m\"\u001b[39m\n\u001b[0;32m    787\u001b[0m         \u001b[39m\"\u001b[39m\u001b[39mhttps://urllib3.readthedocs.io/en/1.26.x/advanced-usage.html\u001b[39m\u001b[39m\"\u001b[39m\n\u001b[0;32m    788\u001b[0m         \u001b[39m\"\u001b[39m\u001b[39m#https-proxy-error-http-proxy\u001b[39m\u001b[39m\"\u001b[39m,\n\u001b[0;32m    789\u001b[0m         SSLError(e),\n\u001b[1;32m--> 790\u001b[0m     )\n\u001b[0;32m    791\u001b[0m \u001b[39melif\u001b[39;00m \u001b[39misinstance\u001b[39m(e, (BaseSSLError, CertificateError)):\n\u001b[0;32m    792\u001b[0m     e \u001b[39m=\u001b[39m SSLError(e)\n",
      "File \u001b[1;32mc:\\Users\\totha\\.conda\\envs\\cuoiky\\lib\\site-packages\\urllib3\\connectionpool.py:536\u001b[0m, in \u001b[0;36m_make_request\u001b[1;34m(self, conn, method, url, body, headers, retries, timeout, chunked, response_conn, preload_content, decode_content, enforce_content_length)\u001b[0m\n\u001b[0;32m    529\u001b[0m         port \u001b[39m=\u001b[39m \u001b[39mNone\u001b[39;00m\n\u001b[0;32m    531\u001b[0m     \u001b[39mreturn\u001b[39;00m (scheme, host, port) \u001b[39m==\u001b[39m (\u001b[39mself\u001b[39m\u001b[39m.\u001b[39mscheme, \u001b[39mself\u001b[39m\u001b[39m.\u001b[39mhost, \u001b[39mself\u001b[39m\u001b[39m.\u001b[39mport)\n\u001b[0;32m    533\u001b[0m \u001b[39mdef\u001b[39;00m \u001b[39murlopen\u001b[39m(\n\u001b[0;32m    534\u001b[0m     \u001b[39mself\u001b[39m,\n\u001b[0;32m    535\u001b[0m     method,\n\u001b[1;32m--> 536\u001b[0m     url,\n\u001b[0;32m    537\u001b[0m     body\u001b[39m=\u001b[39m\u001b[39mNone\u001b[39;00m,\n\u001b[0;32m    538\u001b[0m     headers\u001b[39m=\u001b[39m\u001b[39mNone\u001b[39;00m,\n\u001b[0;32m    539\u001b[0m     retries\u001b[39m=\u001b[39m\u001b[39mNone\u001b[39;00m,\n\u001b[0;32m    540\u001b[0m     redirect\u001b[39m=\u001b[39m\u001b[39mTrue\u001b[39;00m,\n\u001b[0;32m    541\u001b[0m     assert_same_host\u001b[39m=\u001b[39m\u001b[39mTrue\u001b[39;00m,\n\u001b[0;32m    542\u001b[0m     timeout\u001b[39m=\u001b[39m_Default,\n\u001b[0;32m    543\u001b[0m     pool_timeout\u001b[39m=\u001b[39m\u001b[39mNone\u001b[39;00m,\n\u001b[0;32m    544\u001b[0m     release_conn\u001b[39m=\u001b[39m\u001b[39mNone\u001b[39;00m,\n\u001b[0;32m    545\u001b[0m     chunked\u001b[39m=\u001b[39m\u001b[39mFalse\u001b[39;00m,\n\u001b[0;32m    546\u001b[0m     body_pos\u001b[39m=\u001b[39m\u001b[39mNone\u001b[39;00m,\n\u001b[0;32m    547\u001b[0m     \u001b[39m*\u001b[39m\u001b[39m*\u001b[39mresponse_kw\n\u001b[0;32m    548\u001b[0m ):\n\u001b[0;32m    549\u001b[0m \u001b[39m    \u001b[39m\u001b[39m\"\"\"\u001b[39;00m\n\u001b[0;32m    550\u001b[0m \u001b[39m    Get a connection from the pool and perform an HTTP request. This is the\u001b[39;00m\n\u001b[0;32m    551\u001b[0m \u001b[39m    lowest level call for making a request, so you'll need to specify all\u001b[39;00m\n\u001b[1;32m   (...)\u001b[0m\n\u001b[0;32m    639\u001b[0m \u001b[39m        :meth:`urllib3.response.HTTPResponse.from_httplib`\u001b[39;00m\n\u001b[0;32m    640\u001b[0m \u001b[39m    \"\"\"\u001b[39;00m\n\u001b[0;32m    642\u001b[0m     parsed_url \u001b[39m=\u001b[39m parse_url(url)\n",
      "File \u001b[1;32mc:\\Users\\totha\\.conda\\envs\\cuoiky\\lib\\site-packages\\urllib3\\connection.py:454\u001b[0m, in \u001b[0;36mgetresponse\u001b[1;34m(self)\u001b[0m\n\u001b[0;32m    449\u001b[0m \u001b[39mif\u001b[39;00m \u001b[39mself\u001b[39m\u001b[39m.\u001b[39massert_fingerprint:\n\u001b[0;32m    450\u001b[0m     assert_fingerprint(\n\u001b[0;32m    451\u001b[0m         \u001b[39mself\u001b[39m\u001b[39m.\u001b[39msock\u001b[39m.\u001b[39mgetpeercert(binary_form\u001b[39m=\u001b[39m\u001b[39mTrue\u001b[39;00m), \u001b[39mself\u001b[39m\u001b[39m.\u001b[39massert_fingerprint\n\u001b[0;32m    452\u001b[0m     )\n\u001b[0;32m    453\u001b[0m \u001b[39melif\u001b[39;00m (\n\u001b[1;32m--> 454\u001b[0m     context\u001b[39m.\u001b[39mverify_mode \u001b[39m!=\u001b[39m ssl\u001b[39m.\u001b[39mCERT_NONE\n\u001b[0;32m    455\u001b[0m     \u001b[39mand\u001b[39;00m \u001b[39mnot\u001b[39;00m \u001b[39mgetattr\u001b[39m(context, \u001b[39m\"\u001b[39m\u001b[39mcheck_hostname\u001b[39m\u001b[39m\"\u001b[39m, \u001b[39mFalse\u001b[39;00m)\n\u001b[0;32m    456\u001b[0m     \u001b[39mand\u001b[39;00m \u001b[39mself\u001b[39m\u001b[39m.\u001b[39massert_hostname \u001b[39mis\u001b[39;00m \u001b[39mnot\u001b[39;00m \u001b[39mFalse\u001b[39;00m\n\u001b[0;32m    457\u001b[0m ):\n\u001b[0;32m    458\u001b[0m     \u001b[39m# While urllib3 attempts to always turn off hostname matching from\u001b[39;00m\n\u001b[0;32m    459\u001b[0m     \u001b[39m# the TLS library, this cannot always be done. So we check whether\u001b[39;00m\n\u001b[0;32m    460\u001b[0m     \u001b[39m# the TLS Library still thinks it's matching hostnames.\u001b[39;00m\n\u001b[0;32m    461\u001b[0m     cert \u001b[39m=\u001b[39m \u001b[39mself\u001b[39m\u001b[39m.\u001b[39msock\u001b[39m.\u001b[39mgetpeercert()\n\u001b[0;32m    462\u001b[0m     \u001b[39mif\u001b[39;00m \u001b[39mnot\u001b[39;00m cert\u001b[39m.\u001b[39mget(\u001b[39m\"\u001b[39m\u001b[39msubjectAltName\u001b[39m\u001b[39m\"\u001b[39m, ()):\n",
      "File \u001b[1;32mc:\\Users\\totha\\.conda\\envs\\cuoiky\\lib\\http\\client.py:1377\u001b[0m, in \u001b[0;36mHTTPConnection.getresponse\u001b[1;34m(self)\u001b[0m\n\u001b[0;32m   1375\u001b[0m \u001b[39mtry\u001b[39;00m:\n\u001b[0;32m   1376\u001b[0m     \u001b[39mtry\u001b[39;00m:\n\u001b[1;32m-> 1377\u001b[0m         response\u001b[39m.\u001b[39;49mbegin()\n\u001b[0;32m   1378\u001b[0m     \u001b[39mexcept\u001b[39;00m \u001b[39mConnectionError\u001b[39;00m:\n\u001b[0;32m   1379\u001b[0m         \u001b[39mself\u001b[39m\u001b[39m.\u001b[39mclose()\n",
      "File \u001b[1;32mc:\\Users\\totha\\.conda\\envs\\cuoiky\\lib\\http\\client.py:320\u001b[0m, in \u001b[0;36mHTTPResponse.begin\u001b[1;34m(self)\u001b[0m\n\u001b[0;32m    318\u001b[0m \u001b[39m# read until we get a non-100 response\u001b[39;00m\n\u001b[0;32m    319\u001b[0m \u001b[39mwhile\u001b[39;00m \u001b[39mTrue\u001b[39;00m:\n\u001b[1;32m--> 320\u001b[0m     version, status, reason \u001b[39m=\u001b[39m \u001b[39mself\u001b[39;49m\u001b[39m.\u001b[39;49m_read_status()\n\u001b[0;32m    321\u001b[0m     \u001b[39mif\u001b[39;00m status \u001b[39m!=\u001b[39m CONTINUE:\n\u001b[0;32m    322\u001b[0m         \u001b[39mbreak\u001b[39;00m\n",
      "File \u001b[1;32mc:\\Users\\totha\\.conda\\envs\\cuoiky\\lib\\http\\client.py:281\u001b[0m, in \u001b[0;36mHTTPResponse._read_status\u001b[1;34m(self)\u001b[0m\n\u001b[0;32m    280\u001b[0m \u001b[39mdef\u001b[39;00m \u001b[39m_read_status\u001b[39m(\u001b[39mself\u001b[39m):\n\u001b[1;32m--> 281\u001b[0m     line \u001b[39m=\u001b[39m \u001b[39mstr\u001b[39m(\u001b[39mself\u001b[39;49m\u001b[39m.\u001b[39;49mfp\u001b[39m.\u001b[39;49mreadline(_MAXLINE \u001b[39m+\u001b[39;49m \u001b[39m1\u001b[39;49m), \u001b[39m\"\u001b[39m\u001b[39miso-8859-1\u001b[39m\u001b[39m\"\u001b[39m)\n\u001b[0;32m    282\u001b[0m     \u001b[39mif\u001b[39;00m \u001b[39mlen\u001b[39m(line) \u001b[39m>\u001b[39m _MAXLINE:\n\u001b[0;32m    283\u001b[0m         \u001b[39mraise\u001b[39;00m LineTooLong(\u001b[39m\"\u001b[39m\u001b[39mstatus line\u001b[39m\u001b[39m\"\u001b[39m)\n",
      "File \u001b[1;32mc:\\Users\\totha\\.conda\\envs\\cuoiky\\lib\\socket.py:704\u001b[0m, in \u001b[0;36mSocketIO.readinto\u001b[1;34m(self, b)\u001b[0m\n\u001b[0;32m    702\u001b[0m \u001b[39mwhile\u001b[39;00m \u001b[39mTrue\u001b[39;00m:\n\u001b[0;32m    703\u001b[0m     \u001b[39mtry\u001b[39;00m:\n\u001b[1;32m--> 704\u001b[0m         \u001b[39mreturn\u001b[39;00m \u001b[39mself\u001b[39;49m\u001b[39m.\u001b[39;49m_sock\u001b[39m.\u001b[39;49mrecv_into(b)\n\u001b[0;32m    705\u001b[0m     \u001b[39mexcept\u001b[39;00m timeout:\n\u001b[0;32m    706\u001b[0m         \u001b[39mself\u001b[39m\u001b[39m.\u001b[39m_timeout_occurred \u001b[39m=\u001b[39m \u001b[39mTrue\u001b[39;00m\n",
      "\u001b[1;31mKeyboardInterrupt\u001b[0m: "
     ]
    }
   ],
   "source": [
    "# get products detail and save\n",
    "logs_file.write(\"------------------------------------\\nStart new session: {0}\\n\".format(LOG_SESSION))\n",
    "count = 1790\n",
    "for f in files:\n",
    "    with open(f, 'r', encoding='UTF-8') as file:\n",
    "        lines = file.readlines()\n",
    "        for l in lines:\n",
    "            logs_file.write(\"Get product no {0} in {1}\".format(lines.index(l)+1,f))\n",
    "            print(\"Writing product {0}\".format(count))\n",
    "            web_driver.get(l)\n",
    "            time.sleep(5)\n",
    "            try:\n",
    "                try:\n",
    "                    document = {\n",
    "                        \"title\" :  web_driver.find_element(By.XPATH, '//*[@id=\"productTitle\"]').text,\n",
    "                        \"asin\": web_driver.find_element(By.XPATH, '//*[@id=\"detailBullets_feature_div\"]/ul/li[6]/span/span[2]').text,\n",
    "                        \"brand\": web_driver.find_element(By.XPATH, '//*[@id=\"detailBullets_feature_div\"]/ul/li[5]/span/span[2]').text,\n",
    "                        \"stars\": web_driver.find_element(By.XPATH, '//*[@id=\"acrPopover\"]/span[1]/a/span').text,\n",
    "                        \"reviewsCount\": web_driver.find_element(By.XPATH, '//*[@id=\"acrCustomerReviewText\"]').text,\n",
    "                        \"thumbnailImage\": web_driver.find_element(By.XPATH, '//*[@id=\"landingImage\"]').get_attribute(\"src\"),\n",
    "                        \"breadCrumbs\": [e.text for e in web_driver.find_elements(By.XPATH, '//*[@id=\"wayfinding-breadcrumbs_feature_div\"]/ul/li')],\n",
    "                        \"description\": web_driver.find_element(By.XPATH, '//*[@id=\"productDescription\"]/p/span').text,\n",
    "                        \"price\" : {\n",
    "                            \"value\" :  web_driver.find_element(By.XPATH, '//*[@class=\"a-price-whole\"]').text+'.'+web_driver.find_element(By.XPATH, '//*[@class=\"a-price-fraction\"]').text,\n",
    "                            \"currency\" : web_driver.find_element(By.XPATH, '//*[@class=\"a-price-symbol\"]').text,\n",
    "                        },\n",
    "                        \"url\": l.replace(\"\\n\",\"\"),\n",
    "                    }\n",
    "                except Exception as ex:\n",
    "                    document = {\n",
    "                        \"title\" :  web_driver.find_element(By.XPATH, '//*[@id=\"productTitle\"]').text,\n",
    "                        \"asin\": web_driver.find_element(By.XPATH, '//*[@id=\"productDetails_detailBullets_sections1\"]/tbody/tr[1]/td').text,\n",
    "                        \"brand\": web_driver.find_element(By.XPATH, '//*[@id=\"productDetails_techSpec_section_1\"]/tbody/tr[1]/td').text,\n",
    "                        \"stars\": web_driver.find_element(By.XPATH, '//*[@id=\"acrPopover\"]/span[1]/a/span').text,\n",
    "                        \"reviewsCount\": web_driver.find_element(By.XPATH, '//*[@id=\"acrCustomerReviewText\"]').text,\n",
    "                        \"thumbnailImage\": web_driver.find_element(By.XPATH, '//*[@id=\"landingImage\"]').get_attribute(\"src\"),\n",
    "                        \"breadCrumbs\": [e.text for e in web_driver.find_elements(By.XPATH, '//*[@id=\"wayfinding-breadcrumbs_feature_div\"]/ul/li')],\n",
    "                        \"description\": web_driver.find_element(By.XPATH, '//*[@id=\"productDescription\"]/p/span').text,\n",
    "                        \"price\" : {\n",
    "                            \"value\" :  web_driver.find_element(By.XPATH, '//*[@class=\"a-price-whole\"]').text+'.'+web_driver.find_element(By.XPATH, '//*[@class=\"a-price-fraction\"]').text,\n",
    "                            \"currency\" : web_driver.find_element(By.XPATH, '//*[@class=\"a-price-symbol\"]').text,\n",
    "                        },\n",
    "                        \"url\": l.replace(\"\\n\",\"\"),\n",
    "                    }\n",
    "            except Exception as e:\n",
    "                logs_file.write(\"Error in {0} at {1}\".format(lines.index(l)+1,f))\n",
    "                print(\"Error!!!\")\n",
    "            else:\n",
    "                with open('documents/product{0}.json'.format(count), 'w+', encoding='utf-8') as file:\n",
    "                    json.dump(document, file)\n",
    "                print(\"Success!!!\")\n",
    "            count += 1"
   ]
  },
  {
   "cell_type": "code",
   "execution_count": null,
   "metadata": {},
   "outputs": [],
   "source": [
    "logs_file.close()\n",
    "web_driver.close()"
   ]
  }
 ],
 "metadata": {
  "kernelspec": {
   "display_name": "cuoiky",
   "language": "python",
   "name": "python3"
  },
  "language_info": {
   "codemirror_mode": {
    "name": "ipython",
    "version": 3
   },
   "file_extension": ".py",
   "mimetype": "text/x-python",
   "name": "python",
   "nbconvert_exporter": "python",
   "pygments_lexer": "ipython3",
   "version": "3.9.16"
  },
  "orig_nbformat": 4
 },
 "nbformat": 4,
 "nbformat_minor": 2
}
