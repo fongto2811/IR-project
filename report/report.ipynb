{
 "cells": [
  {
   "cell_type": "markdown",
   "source": [
    "# PROJECT CUỐI KỲ: XÂY DỰNG HỆ THỐNG SEARCH ENGINE TRÊN SÀN THƯƠNG MẠI ĐIỆN TỬ AMAZON.COM"
   ],
   "metadata": {
    "collapsed": false
   }
  },
  {
   "cell_type": "markdown",
   "source": [
    "### GVHD: ThS. Quách Đình Hoàng\n",
    "### SVTH:\n",
    "* Nguyễn Minh Luân\n",
    "* Tô Thanh Phong\n",
    "* Tôn Thiên Thạch\n",
    "* Đào Quyết Phong"
   ],
   "metadata": {
    "collapsed": false
   }
  },
  {
   "cell_type": "markdown",
   "source": [
    "### 1. Abstract (Tóm tắt)"
   ],
   "metadata": {
    "collapsed": false
   }
  },
  {
   "cell_type": "markdown",
   "source": [
    "* Nhận thấy, ngành thương mại điện tử đang phát triển trong thời đại hiện nay. Một lượng dữ liệu khổng lồ được sinh ra từ các sản phẩm, mặt hàng rất đa dạng trên các nền tảng này. Điều đó tạo nên những mặt tốt để khai thác nguồn dữ liệu này cho đề tài của nhóm. Một trong những nơi có thể khai thác được nguồn dữ liệu từ các hoạt động trên đến từ các sàn giao dịch thương mại điện tử, chợ thương mại điển tử như  Shopee, Lazada, Tiki,... nhưng website này có một lượng lớn người cung cấp sản phẩm (người bán) và người tiêu dùng (người mua) truy cập và giao dịch mỗi ngày. Từ đó, nhóm tôi quyết định chọn 01 trong những sàn thương mại điện tử tốt nhất hiện nay – sàn Amazon, làm đối tượng chính để khai thác dữ liệu. Đề tài của nhóm là áp dụng kiến thức đã học, thực hành về information retrieval để xây dựng một Search Engine dùng Elasticsearch trên tập dữ liệu sản phẩm thu thập được trên Sàn thương mại điện tử Amazon (website – amazon.com) với kỹ thuật web scraping.\n"
   ],
   "metadata": {
    "collapsed": false
   }
  },
  {
   "cell_type": "markdown",
   "source": [
    "### 2. Introduction (Giới thiệu)"
   ],
   "metadata": {
    "collapsed": false
   }
  },
  {
   "cell_type": "markdown",
   "source": [
    "* Sàn thương mại điện tử Amazon là một trong những sàn thương mại điện tử lớn nhất thế giới thế giới với hàng triệu sản phẩm được bán trên trang web của họ. Nhưng việc tìm kiếm những sản phẩm phù hợp trên Amazon đôi khi có thể gây khó khăn cho người dùng. Vì vậy, nhóm đã xây dựng 01 công cụ tìm kiếm – search engine trên Amazon để giúp cho người dùng tìm kiếm những sản phẩm phù hợp.\n",
    "* Mục đích của search engine này được thiết kế để giúp người dùng có thể tìm kiếm và phân loại sản phẩm một cách dễ dàng và hiệu quả. Công cụ này cung cấp cho người dùng một loạt các tính năng tìm kiếm để giúp người dùng tìm kiếm sản phẩm theo nhu cầu của mình.\n",
    "* Ngoài ra, nó còn cho phép người dùng phân loại kết quả tìm kiếm theo nhiều tiêu chí khác nhau như giá cả, đánh giá sao của khách hàng, danh mục sản phẩm. Điều này giúp người dùng có thể lọc danh sách sản phẩm theo nhu cầu của họ và tìm kiếm sản phẩm phù hợp một cách nhanh chóng và dễ dàng.\n",
    "* Thêm vào đó, search engine cũng cung cấp cho người dùng các tính năng tìm kiếm khác như tìm kiếm sản phẩm theo thương hiệu, phiên bản sản phẩm và các sản phẩm liên quan.\n",
    "* Kết luận, search engine trên sàn thương mại điện tử Amazon mà nhóm xây dựng với kỳ vọng là một công cụ quan trọng và cần thiết đối với việc tìm kiếm sản phẩm trên website của Amazon, giúp việc tìm kiếm đa dạng thuộc tính và thuận tiện cho người dùng.\n"
   ],
   "metadata": {
    "collapsed": false
   }
  },
  {
   "cell_type": "markdown",
   "source": [
    "### 3. Data"
   ],
   "metadata": {
    "collapsed": false
   }
  },
  {
   "cell_type": "markdown",
   "source": [
    "***Giới thiệu về dữ liệu***: hiện tại Amazon đang lưu trữ dữ liệu của 385 triệu sản phẩm tiêu dùng *(theo thống kê từ sellerengine.com)*. Với lượng sản phẩm rất lớn này Amazon đã chia nhỏ thành các mặt hàng (categories) để dễ dàng phân loại và tìm kiếm, với *30 mặt hàng*, trong đó 10 mặt hàng phố biển về mặt tiêu dùng như sau:\n",
    "\tHome and Kitchen – 40%\n",
    "\tSports and Outdoors – 21%\n",
    "\tToys and Games – 19%\n",
    "\tBeauty and Personal Care – 19%\n",
    "\tHealth, Household, and Baby Care – 18%\n",
    "\tKitchen and Dining – 16%\n",
    "\tOffice Products – 15%\n",
    "\tGarden and Outdoor – 14%\n",
    "\tTools and Home Improvement – 14%\n",
    "\tPet Supplies – 13%\n",
    "(theo số liệu năm 2022 từ https://nuoptima.com/blog/amazon-product-categories )\n",
    "\n",
    "Như vậy, giả sử chúng ta chỉ cần khai thác một mặt hàng “Home & Kitchen” (các sản phẩm gia dụng, bếp núc) thì cũng chiếm 40%, tức 154 triệu sản phẩm. Vì dữ liệu thu thập là các mặt hàng, sản phẩm nên đây sẽ là **một số thuộc tính cơ bản** mà nhóm sẽ thu thập từ Amazon:\n",
    "\n",
    " ASIN: Mã sản phẩm riêng biệt từ Amazon dùng để phân loại sản phẩm\n",
    " Image: Hình ảnh về sản phẩm/Link hình sản phẩm\n",
    " Title:\tTiêu đề sản phẩm\n",
    " Description:\tMô tả về sản phẩm\n",
    " Brand:\tThương hiệu của sản phẩm\n",
    " Star:\tSao đánh giá từ user\n",
    " Review Count:\tĐánh giá chất lượng từ người dùng\n",
    " Price: Giá cả\n",
    " Categories:\tLoại sản phẩm\n",
    " URL:\tLink sản phẩm trên website\n",
    "\n"
   ],
   "metadata": {
    "collapsed": false
   }
  },
  {
   "cell_type": "markdown",
   "source": [
    "### 4. Design and Implementation\n"
   ],
   "metadata": {
    "collapsed": false
   }
  },
  {
   "cell_type": "markdown",
   "source": [
    "#### Web Scraping: nhóm sử dụng kỹ thuật này để lấy dữ liệu sản phẩm từ trang thương mại điện tử Amazon\n",
    "\n",
    "1. Thêm thư viện [Selenium](https://www.selenium.dev/) và các thư viện cần thiết khác.\n",
    "2. Định nghĩa các biến `URL` tới trang chủ amazon, `SESSION` phục vụ ghi log\n",
    "3. Tạo file log\n",
    "4. Khởi chạy Chrome, truy cập trang chủ amazon, ghi log\n",
    "5. Danh sách các danh mục sản phẩm trên amazon\n",
    "6. Định nghĩa các hàm để lưu đường dẫn đến các sản phẩm trên amazon\n",
    "7. Lưu tất cả sản phẩm thuộc của mỗi danh mục\n",
    "8. Đóng file log và Chrome\n",
    "\n",
    "Chi tiết code tại file: amazon-scrapping.ipynb\n"
   ],
   "metadata": {
    "collapsed": false
   }
  },
  {
   "cell_type": "markdown",
   "source": [],
   "metadata": {
    "collapsed": false
   }
  },
  {
   "cell_type": "markdown",
   "source": [
    "#### Ứng dụng Elastic Search: nhóm sử dụng Elastic Search nhằm đánh chỉ mục cho tập data thu được\n"
   ],
   "metadata": {
    "collapsed": false
   }
  },
  {
   "cell_type": "markdown",
   "source": [
    "#### Thiết kế giao diện cho Search Engine bằng framework Django của Python\n"
   ],
   "metadata": {
    "collapsed": false
   }
  },
  {
   "cell_type": "markdown",
   "source": [
    "#### Kết quả thu được\n"
   ],
   "metadata": {
    "collapsed": false
   }
  }
 ],
 "metadata": {
  "kernelspec": {
   "display_name": "Python 3",
   "language": "python",
   "name": "python3"
  },
  "language_info": {
   "codemirror_mode": {
    "name": "ipython",
    "version": 2
   },
   "file_extension": ".py",
   "mimetype": "text/x-python",
   "name": "python",
   "nbconvert_exporter": "python",
   "pygments_lexer": "ipython2",
   "version": "2.7.6"
  }
 },
 "nbformat": 4,
 "nbformat_minor": 0
}
