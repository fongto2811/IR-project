{
 "cells": [
  {
   "attachments": {},
   "cell_type": "markdown",
   "metadata": {},
   "source": [
    "## Xây dựng Search Engine trên sàn thương mại điện tử Amazon\n",
    "### 1. Sử dụng kỹ thuật Web Scraping để lấy dữ liệu sản phẩm từ sàn amazon\n",
    "\n",
    "1. Thêm thư viện [Selenium](https://www.selenium.dev/) và các thư viện cần thiết khác.\n",
    "2. Định nghĩa các biến `URL` tới trang chủ amazon, `SESSION` phục vụ ghi log"
   ]
  },
  {
   "cell_type": "code",
   "execution_count": 1,
   "metadata": {},
   "outputs": [],
   "source": [
    "from selenium import webdriver\n",
    "from selenium.webdriver.common.by import By\n",
    "from selenium.webdriver.support.select import Select\n",
    "from webdriver_manager.chrome import ChromeDriverManager\n",
    "import time, datetime\n",
    "import os\n",
    "# define variables \n",
    "SESSION = datetime.datetime.now().strftime(\"%d%m%Y%H%M\")\n",
    "URL = \"https://www.amazon.com/\""
   ]
  },
  {
   "attachments": {},
   "cell_type": "markdown",
   "metadata": {},
   "source": [
    "3. Tạo file log"
   ]
  },
  {
   "cell_type": "code",
   "execution_count": 22,
   "metadata": {},
   "outputs": [],
   "source": [
    "# create log\n",
    "logs_file = open('logs/session{0}.log'.format(SESSION),'w+',encoding='utf-8');"
   ]
  },
  {
   "attachments": {},
   "cell_type": "markdown",
   "metadata": {},
   "source": [
    "4. Khởi chạy Chrome, truy cập trang chủ amazon, ghi log"
   ]
  },
  {
   "cell_type": "code",
   "execution_count": 23,
   "metadata": {},
   "outputs": [
    {
     "data": {
      "text/plain": [
       "69"
      ]
     },
     "execution_count": 23,
     "metadata": {},
     "output_type": "execute_result"
    }
   ],
   "source": [
    "# start webdriver Chrome\n",
    "web = webdriver.Chrome(executable_path=ChromeDriverManager().install())\n",
    "web.get(url=URL)\n",
    "logs_file.write(\"------------------------------------\\nStart new session: {0}\\n\".format(SESSION))"
   ]
  },
  {
   "attachments": {},
   "cell_type": "markdown",
   "metadata": {},
   "source": [
    "5. Danh sách các danh mục sản phẩm trên amazon"
   ]
  },
  {
   "cell_type": "code",
   "execution_count": 27,
   "metadata": {},
   "outputs": [
    {
     "name": "stdout",
     "output_type": "stream",
     "text": [
      "['Arts & Crafts', 'Automotive', 'Baby', 'Beauty & Personal Care', 'Books', \"Boys' Fashion\", 'Computers', 'Deals', 'Digital Music', 'Electronics', \"Girls' Fashion\", 'Health & Household', 'Home & Kitchen', 'Industrial & Scientific', 'Kindle Store', 'Luggage', \"Men's Fashion\", 'Movies & TV', 'Music, CDs & Vinyl', 'Pet Supplies', 'Prime Video', 'Software', 'Sports & Outdoors', 'Tools & Home Improvement', 'Toys & Games', 'Video Games', \"Women's Fashion\"]\n"
     ]
    }
   ],
   "source": [
    "# get categories\n",
    "_search_dropdown = Select(web.find_element(By.ID, 'searchDropdownBox'))\n",
    "categories = _search_dropdown.options\n",
    "\n",
    "# convert WebElement to String\n",
    "categories = [category.text for category in categories]\n",
    "# remove 'All'\n",
    "categories.remove('All Departments')\n",
    "logs_file.write(\"All category: {0}\\n\".format(', '.join(categories)))\n",
    "logs_file.write(\"Total category: {0}\\n\".format(len(categories)))\n",
    "print(categories)"
   ]
  },
  {
   "attachments": {},
   "cell_type": "markdown",
   "metadata": {},
   "source": [
    "6. Định nghĩa các hàm để lưu đường dẫn đến các sản phẩm trên amazon"
   ]
  },
  {
   "cell_type": "code",
   "execution_count": 25,
   "metadata": {},
   "outputs": [],
   "source": [
    "#get all link of products\n",
    "def get_products_one_page(page, category):\n",
    "    try:\n",
    "        _product = web.find_elements_by_xpath(\"//div[contains(@class,'s-title-instructions-style')]//a\")\n",
    "        products_file = open('data/{0}.txt'.format(category),'a+',encoding='utf-8')\n",
    "        for product in _product:\n",
    "            products_file.write(str(product.get_attribute(\"href\"))+'\\n')\n",
    "        products_file.close()\n",
    "        logs_file.write(\" ({0}:{1}) \".format(page,len(_product)))\n",
    "    except:\n",
    "        web.delete_all_cookies()\n",
    "        web.refresh()\n",
    "\n",
    "def get_all_products(start_page, end_page, category):\n",
    "    logs_file.write(\"Number product on page:\")\n",
    "    for i in range(start_page,end_page):\n",
    "        print(\"Save products at page {0}!\".format(i))\n",
    "        get_products_one_page(i,category)\n",
    "        print(\"Save successful! Redirecting page {0}\".format(int(i) + 1))\n",
    "        web.find_element_by_xpath(\"//div[@role='navigation']//a[contains(@class,'s-pagination-next')]\").click()\n",
    "        time.sleep(10)"
   ]
  },
  {
   "attachments": {},
   "cell_type": "markdown",
   "metadata": {},
   "source": [
    "7. Lưu tất cả sản phẩm thuộc của mỗi danh mục"
   ]
  },
  {
   "cell_type": "code",
   "execution_count": 29,
   "metadata": {},
   "outputs": [
    {
     "name": "stdout",
     "output_type": "stream",
     "text": [
      "Save products at page 370!\n",
      "Save successful! Redirecting page 371\n",
      "Save products at page 371!\n",
      "Save successful! Redirecting page 372\n",
      "Save products at page 372!\n",
      "Save successful! Redirecting page 373\n",
      "Save products at page 373!\n",
      "Save successful! Redirecting page 374\n",
      "Save products at page 374!\n",
      "Save successful! Redirecting page 375\n",
      "Save products at page 375!\n",
      "Save successful! Redirecting page 376\n",
      "Save products at page 376!\n",
      "Save successful! Redirecting page 377\n",
      "Save products at page 377!\n",
      "Save successful! Redirecting page 378\n",
      "Save products at page 378!\n",
      "Save successful! Redirecting page 379\n",
      "Save products at page 379!\n",
      "Save successful! Redirecting page 380\n",
      "Save products at page 380!\n",
      "Save successful! Redirecting page 381\n",
      "Save products at page 381!\n",
      "Save successful! Redirecting page 382\n",
      "Save products at page 382!\n",
      "Save successful! Redirecting page 383\n",
      "Save products at page 383!\n",
      "Save successful! Redirecting page 384\n",
      "Save products at page 384!\n",
      "Save successful! Redirecting page 385\n",
      "Save products at page 385!\n",
      "Save successful! Redirecting page 386\n",
      "Save products at page 386!\n",
      "Save successful! Redirecting page 387\n",
      "Save products at page 387!\n",
      "Save successful! Redirecting page 388\n",
      "Save products at page 388!\n",
      "Save successful! Redirecting page 389\n",
      "Save products at page 389!\n",
      "Save successful! Redirecting page 390\n",
      "Save products at page 390!\n",
      "Save successful! Redirecting page 391\n",
      "Save products at page 391!\n",
      "Save successful! Redirecting page 392\n",
      "Save products at page 392!\n",
      "Save successful! Redirecting page 393\n",
      "Save products at page 393!\n",
      "Save successful! Redirecting page 394\n",
      "Save products at page 394!\n",
      "Save successful! Redirecting page 395\n",
      "Save products at page 395!\n",
      "Save successful! Redirecting page 396\n",
      "Save products at page 396!\n",
      "Save successful! Redirecting page 397\n",
      "Save products at page 397!\n",
      "Save successful! Redirecting page 398\n",
      "Save products at page 398!\n",
      "Save successful! Redirecting page 399\n",
      "Save products at page 399!\n",
      "Save successful! Redirecting page 400\n",
      "Save products at page 400!\n",
      "Save successful! Redirecting page 401\n"
     ]
    },
    {
     "ename": "NoSuchElementException",
     "evalue": "Message: no such element: Unable to locate element: {\"method\":\"xpath\",\"selector\":\"//div[@role='navigation']//a[contains(@class,'s-pagination-next')]\"}\n  (Session info: chrome=113.0.5672.127)\n",
     "output_type": "error",
     "traceback": [
      "\u001b[1;31m---------------------------------------------------------------------------\u001b[0m",
      "\u001b[1;31mNoSuchElementException\u001b[0m                    Traceback (most recent call last)",
      "Cell \u001b[1;32mIn[29], line 19\u001b[0m\n\u001b[0;32m     17\u001b[0m     time\u001b[39m.\u001b[39msleep(\u001b[39m5\u001b[39m)\n\u001b[0;32m     18\u001b[0m \u001b[39melse\u001b[39;00m:\n\u001b[1;32m---> 19\u001b[0m     get_all_products(start_page, end_page, i)\n",
      "Cell \u001b[1;32mIn[25], line 20\u001b[0m, in \u001b[0;36mget_all_products\u001b[1;34m(start_page, end_page, category)\u001b[0m\n\u001b[0;32m     18\u001b[0m get_products_one_page(i,category)\n\u001b[0;32m     19\u001b[0m \u001b[39mprint\u001b[39m(\u001b[39m\"\u001b[39m\u001b[39mSave successful! Redirecting page \u001b[39m\u001b[39m{0}\u001b[39;00m\u001b[39m\"\u001b[39m\u001b[39m.\u001b[39mformat(\u001b[39mint\u001b[39m(i) \u001b[39m+\u001b[39m \u001b[39m1\u001b[39m))\n\u001b[1;32m---> 20\u001b[0m web\u001b[39m.\u001b[39;49mfind_element_by_xpath(\u001b[39m\"\u001b[39;49m\u001b[39m//div[@role=\u001b[39;49m\u001b[39m'\u001b[39;49m\u001b[39mnavigation\u001b[39;49m\u001b[39m'\u001b[39;49m\u001b[39m]//a[contains(@class,\u001b[39;49m\u001b[39m'\u001b[39;49m\u001b[39ms-pagination-next\u001b[39;49m\u001b[39m'\u001b[39;49m\u001b[39m)]\u001b[39;49m\u001b[39m\"\u001b[39;49m)\u001b[39m.\u001b[39mclick()\n\u001b[0;32m     21\u001b[0m time\u001b[39m.\u001b[39msleep(\u001b[39m10\u001b[39m)\n",
      "File \u001b[1;32mc:\\Users\\totha\\.conda\\envs\\cuoiky\\lib\\site-packages\\selenium\\webdriver\\remote\\webdriver.py:394\u001b[0m, in \u001b[0;36mWebDriver.find_element_by_xpath\u001b[1;34m(self, xpath)\u001b[0m\n\u001b[0;32m    378\u001b[0m \u001b[39mdef\u001b[39;00m \u001b[39mfind_element_by_xpath\u001b[39m(\u001b[39mself\u001b[39m, xpath):\n\u001b[0;32m    379\u001b[0m \u001b[39m    \u001b[39m\u001b[39m\"\"\"\u001b[39;00m\n\u001b[0;32m    380\u001b[0m \u001b[39m    Finds an element by xpath.\u001b[39;00m\n\u001b[0;32m    381\u001b[0m \n\u001b[1;32m   (...)\u001b[0m\n\u001b[0;32m    392\u001b[0m \u001b[39m        element = driver.find_element_by_xpath('//div/td[1]')\u001b[39;00m\n\u001b[0;32m    393\u001b[0m \u001b[39m    \"\"\"\u001b[39;00m\n\u001b[1;32m--> 394\u001b[0m     \u001b[39mreturn\u001b[39;00m \u001b[39mself\u001b[39;49m\u001b[39m.\u001b[39;49mfind_element(by\u001b[39m=\u001b[39;49mBy\u001b[39m.\u001b[39;49mXPATH, value\u001b[39m=\u001b[39;49mxpath)\n",
      "File \u001b[1;32mc:\\Users\\totha\\.conda\\envs\\cuoiky\\lib\\site-packages\\selenium\\webdriver\\remote\\webdriver.py:976\u001b[0m, in \u001b[0;36mWebDriver.find_element\u001b[1;34m(self, by, value)\u001b[0m\n\u001b[0;32m    974\u001b[0m         by \u001b[39m=\u001b[39m By\u001b[39m.\u001b[39mCSS_SELECTOR\n\u001b[0;32m    975\u001b[0m         value \u001b[39m=\u001b[39m \u001b[39m'\u001b[39m\u001b[39m[name=\u001b[39m\u001b[39m\"\u001b[39m\u001b[39m%s\u001b[39;00m\u001b[39m\"\u001b[39m\u001b[39m]\u001b[39m\u001b[39m'\u001b[39m \u001b[39m%\u001b[39m value\n\u001b[1;32m--> 976\u001b[0m \u001b[39mreturn\u001b[39;00m \u001b[39mself\u001b[39;49m\u001b[39m.\u001b[39;49mexecute(Command\u001b[39m.\u001b[39;49mFIND_ELEMENT, {\n\u001b[0;32m    977\u001b[0m     \u001b[39m'\u001b[39;49m\u001b[39musing\u001b[39;49m\u001b[39m'\u001b[39;49m: by,\n\u001b[0;32m    978\u001b[0m     \u001b[39m'\u001b[39;49m\u001b[39mvalue\u001b[39;49m\u001b[39m'\u001b[39;49m: value})[\u001b[39m'\u001b[39m\u001b[39mvalue\u001b[39m\u001b[39m'\u001b[39m]\n",
      "File \u001b[1;32mc:\\Users\\totha\\.conda\\envs\\cuoiky\\lib\\site-packages\\selenium\\webdriver\\remote\\webdriver.py:321\u001b[0m, in \u001b[0;36mWebDriver.execute\u001b[1;34m(self, driver_command, params)\u001b[0m\n\u001b[0;32m    319\u001b[0m response \u001b[39m=\u001b[39m \u001b[39mself\u001b[39m\u001b[39m.\u001b[39mcommand_executor\u001b[39m.\u001b[39mexecute(driver_command, params)\n\u001b[0;32m    320\u001b[0m \u001b[39mif\u001b[39;00m response:\n\u001b[1;32m--> 321\u001b[0m     \u001b[39mself\u001b[39;49m\u001b[39m.\u001b[39;49merror_handler\u001b[39m.\u001b[39;49mcheck_response(response)\n\u001b[0;32m    322\u001b[0m     response[\u001b[39m'\u001b[39m\u001b[39mvalue\u001b[39m\u001b[39m'\u001b[39m] \u001b[39m=\u001b[39m \u001b[39mself\u001b[39m\u001b[39m.\u001b[39m_unwrap_value(\n\u001b[0;32m    323\u001b[0m         response\u001b[39m.\u001b[39mget(\u001b[39m'\u001b[39m\u001b[39mvalue\u001b[39m\u001b[39m'\u001b[39m, \u001b[39mNone\u001b[39;00m))\n\u001b[0;32m    324\u001b[0m     \u001b[39mreturn\u001b[39;00m response\n",
      "File \u001b[1;32mc:\\Users\\totha\\.conda\\envs\\cuoiky\\lib\\site-packages\\selenium\\webdriver\\remote\\errorhandler.py:242\u001b[0m, in \u001b[0;36mErrorHandler.check_response\u001b[1;34m(self, response)\u001b[0m\n\u001b[0;32m    240\u001b[0m         alert_text \u001b[39m=\u001b[39m value[\u001b[39m'\u001b[39m\u001b[39malert\u001b[39m\u001b[39m'\u001b[39m]\u001b[39m.\u001b[39mget(\u001b[39m'\u001b[39m\u001b[39mtext\u001b[39m\u001b[39m'\u001b[39m)\n\u001b[0;32m    241\u001b[0m     \u001b[39mraise\u001b[39;00m exception_class(message, screen, stacktrace, alert_text)\n\u001b[1;32m--> 242\u001b[0m \u001b[39mraise\u001b[39;00m exception_class(message, screen, stacktrace)\n",
      "\u001b[1;31mNoSuchElementException\u001b[0m: Message: no such element: Unable to locate element: {\"method\":\"xpath\",\"selector\":\"//div[@role='navigation']//a[contains(@class,'s-pagination-next')]\"}\n  (Session info: chrome=113.0.5672.127)\n"
     ]
    }
   ],
   "source": [
    "# get all products in each category\n",
    "i = 'Computers'\n",
    "start_page = 370 # default 1\n",
    "end_page = 401 # not configure\n",
    "is_start = False\n",
    "# True - chuyển trang từ trang home sang trang 1 của category i\n",
    "if is_start:\n",
    "    # choose category and find\n",
    "    _search_dropdown.select_by_visible_text(i)\n",
    "    logs_file.write(\"--------------{0}--------------\\n\".format(i))\n",
    "    web.find_element_by_id(\"nav-search-submit-button\").click()\n",
    "    # wait 5s to load page\n",
    "    time.sleep(5)\n",
    "    # click on \"See all results\"\n",
    "    web.find_element_by_xpath('//a[span=\"See all results\"]').click()\n",
    "    # wait 5s to load page\n",
    "    time.sleep(5)\n",
    "else:\n",
    "    get_all_products(start_page, end_page, i)"
   ]
  },
  {
   "attachments": {},
   "cell_type": "markdown",
   "metadata": {},
   "source": [
    "8. Đóng file log và Chrome"
   ]
  },
  {
   "cell_type": "code",
   "execution_count": 21,
   "metadata": {},
   "outputs": [],
   "source": [
    "logs_file.close()\n",
    "web.quit()"
   ]
  }
 ],
 "metadata": {
  "kernelspec": {
   "display_name": "IRenv",
   "language": "python",
   "name": "python3"
  },
  "language_info": {
   "codemirror_mode": {
    "name": "ipython",
    "version": 3
   },
   "file_extension": ".py",
   "mimetype": "text/x-python",
   "name": "python",
   "nbconvert_exporter": "python",
   "pygments_lexer": "ipython3",
   "version": "3.9.16"
  },
  "orig_nbformat": 4
 },
 "nbformat": 4,
 "nbformat_minor": 2
}
