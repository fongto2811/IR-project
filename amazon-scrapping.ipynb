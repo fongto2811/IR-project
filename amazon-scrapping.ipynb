{
 "cells": [
  {
   "attachments": {},
   "cell_type": "markdown",
   "metadata": {},
   "source": [
    "## Xây dựng Search Engine trên sàn thương mại điện tử Amazon\n",
    "### 1. Sử dụng kỹ thuật Web Scraping để lấy dữ liệu sản phẩm từ sàn amazon\n",
    "\n",
    "1. Thêm thư viện [Selenium](https://www.selenium.dev/) và các thư viện cần thiết khác.\n",
    "2. Định nghĩa các biến `URL` tới trang chủ amazon, `SESSION` phục vụ ghi log"
   ]
  },
  {
   "cell_type": "code",
   "execution_count": null,
   "metadata": {},
   "outputs": [],
   "source": [
    "from selenium import webdriver\n",
    "from selenium.webdriver.common.by import By\n",
    "from selenium.webdriver.support.select import Select\n",
    "from webdriver_manager.chrome import ChromeDriverManager\n",
    "import time, datetime\n",
    "import os\n",
    "# define variables \n",
    "SESSION = datetime.datetime.now().strftime(\"%d%m%Y%H%M\")\n",
    "URL = \"https://www.amazon.com/\""
   ]
  },
  {
   "attachments": {},
   "cell_type": "markdown",
   "metadata": {},
   "source": [
    "3. Tạo file log"
   ]
  },
  {
   "cell_type": "code",
   "execution_count": null,
   "metadata": {},
   "outputs": [],
   "source": [
    "# create log\n",
    "logs_file = open('logs/session{0}.log'.format(SESSION),'w+',encoding='utf-8');"
   ]
  },
  {
   "attachments": {},
   "cell_type": "markdown",
   "metadata": {},
   "source": [
    "4. Khởi chạy Chrome, truy cập trang chủ amazon, ghi log"
   ]
  },
  {
   "cell_type": "code",
   "execution_count": null,
   "metadata": {},
   "outputs": [],
   "source": [
    "# start webdriver Chrome\n",
    "web = webdriver.Chrome(executable_path=ChromeDriverManager().install())\n",
    "web.get(url=URL)\n",
    "logs_file.write(\"------------------------------------\\nStart new session: {0}\\n\".format(SESSION))"
   ]
  },
  {
   "attachments": {},
   "cell_type": "markdown",
   "metadata": {},
   "source": [
    "5. Danh sách các danh mục sản phẩm trên amazon"
   ]
  },
  {
   "cell_type": "code",
   "execution_count": null,
   "metadata": {},
   "outputs": [],
   "source": [
    "# get categories\n",
    "_search_dropdown = Select(web.find_element(By.ID, 'searchDropdownBox'))\n",
    "categories = _search_dropdown.options\n",
    "\n",
    "# convert WebElement to String\n",
    "categories = [category.text for category in categories]\n",
    "# remove 'All'\n",
    "categories.remove('All Departments')\n",
    "categories.remove('Deals')\n",
    "categories.remove('Digital Music')\n",
    "categories.remove('Luggage')\n",
    "categories.remove(\"Men's Fashion\")\n",
    "categories.remove(\"Women's Fashion\")\n",
    "logs_file.write(\"All category: {0}\\n\".format(', '.join(categories)))\n",
    "logs_file.write(\"Total category: {0}\\n\".format(len(categories)))\n",
    "print(categories)"
   ]
  },
  {
   "attachments": {},
   "cell_type": "markdown",
   "metadata": {},
   "source": [
    "6. Định nghĩa các hàm để lưu đường dẫn đến các sản phẩm trên amazon"
   ]
  },
  {
   "cell_type": "code",
   "execution_count": null,
   "metadata": {},
   "outputs": [],
   "source": [
    "#get all link of products\n",
    "def get_products_one_page(page, category):\n",
    "    try:\n",
    "        _product = web.find_elements_by_xpath(\"//div[contains(@class,'s-title-instructions-style')]//a\")\n",
    "        products_file = open('data/{0}.txt'.format(category),'a+',encoding='utf-8')\n",
    "        for product in _product:\n",
    "            products_file.write(str(product.get_attribute(\"href\"))+'\\n')\n",
    "        products_file.close()\n",
    "        logs_file.write(\" ({0}:{1}) \".format(page,len(_product)))\n",
    "    except:\n",
    "        web.delete_all_cookies()\n",
    "        web.refresh()\n",
    "\n",
    "def get_all_products(start_page, end_page, category):\n",
    "    logs_file.write(\"Number product on page:\")\n",
    "    for i in range(start_page,end_page):\n",
    "        print(\"Save products at page {0}!\".format(i))\n",
    "        get_products_one_page(i,category)\n",
    "        print(\"Save successful! Redirecting page {0}\".format(int(i) + 1))\n",
    "        web.find_element_by_xpath(\"//div[@role='navigation']//a[contains(@class,'s-pagination-next')]\").click()\n",
    "        time.sleep(10)"
   ]
  },
  {
   "attachments": {},
   "cell_type": "markdown",
   "metadata": {},
   "source": [
    "7. Lưu tất cả sản phẩm thuộc của mỗi danh mục"
   ]
  },
  {
   "cell_type": "code",
   "execution_count": null,
   "metadata": {},
   "outputs": [],
   "source": [
    "# get all products in each category\n",
    "i = 'Computers'\n",
    "start_page = 370 # default 1\n",
    "end_page = 401 # not configure\n",
    "is_start = False\n",
    "# True - chuyển trang từ trang home sang trang 1 của category i\n",
    "if is_start:\n",
    "    # choose category and find\n",
    "    _search_dropdown.select_by_visible_text(i)\n",
    "    logs_file.write(\"--------------{0}--------------\\n\".format(i))\n",
    "    web.find_element_by_id(\"nav-search-submit-button\").click()\n",
    "    # wait 5s to load page\n",
    "    time.sleep(5)\n",
    "    # click on \"See all results\"\n",
    "    web.find_element_by_xpath('//a[span=\"See all results\"]').click()\n",
    "    # wait 5s to load page\n",
    "    time.sleep(5)\n",
    "else:\n",
    "    get_all_products(start_page, end_page, i)"
   ]
  },
  {
   "attachments": {},
   "cell_type": "markdown",
   "metadata": {},
   "source": [
    "8. Đóng file log và Chrome"
   ]
  },
  {
   "cell_type": "code",
   "execution_count": null,
   "metadata": {},
   "outputs": [],
   "source": [
    "logs_file.close()\n",
    "web.quit()"
   ]
  }
 ],
 "metadata": {
  "kernelspec": {
   "display_name": "IRenv",
   "language": "python",
   "name": "python3"
  },
  "language_info": {
   "codemirror_mode": {
    "name": "ipython",
    "version": 3
   },
   "file_extension": ".py",
   "mimetype": "text/x-python",
   "name": "python",
   "nbconvert_exporter": "python",
   "pygments_lexer": "ipython3",
   "version": "3.9.16"
  },
  "orig_nbformat": 4
 },
 "nbformat": 4,
 "nbformat_minor": 2
}
